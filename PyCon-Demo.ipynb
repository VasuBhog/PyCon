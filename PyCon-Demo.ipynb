{
    "metadata": {
        "kernelspec": {
            "name": "python3",
            "display_name": "Python 3",
            "language": "python"
        },
        "language_info": {
            "name": "python",
            "version": "3.6.8",
            "mimetype": "text/x-python",
            "codemirror_mode": {
                "name": "ipython",
                "version": 3
            },
            "pygments_lexer": "ipython3",
            "nbconvert_exporter": "python",
            "file_extension": ".py"
        }
    },
    "nbformat_minor": 2,
    "nbformat": 4,
    "cells": [
        {
            "cell_type": "markdown",
            "source": [
                "# Testing Kqlmagic with Parameterized query\n",
                "The purpose of this notebook is to query Samples database in the Help ADX cluster. The default parameter is set to GEORGIA. When invoking this notebook, users can change the filter to something else.\n",
                "The login is provided with az cli. If users already logged in, they won't have to do SSO anymore."
            ],
            "metadata": {
                "azdata_cell_guid": "20381b60-8ed9-4c00-b61c-4f04e0b9f8b0"
            }
        },
        {
            "cell_type": "markdown",
            "source": [
                "## Set the State Filter parameter\n",
                "\n",
                "Default value for stateFilter is GEORGIA. It can be set to something else."
            ],
            "metadata": {
                "azdata_cell_guid": "a7387bee-4449-457d-a52a-17a23f62acab"
            }
        },
        {
            "cell_type": "code",
            "source": [
                "stateFilter = \"GEORGIA\""
            ],
            "metadata": {
                "azdata_cell_guid": "7cd71a72-6990-403e-bc90-f88e7aa8d059",
                "tags": [
                    "parameters"
                ]
            },
            "outputs": [],
            "execution_count": null
        },
        {
            "cell_type": "markdown",
            "source": [
                "## Load Kqlmagic first\r\n",
                "\r\n",
                "This assumes that Kqlmagic has been installed."
            ],
            "metadata": {
                "azdata_cell_guid": "2bec6e83-8dec-448c-bc73-13ec7b79df27"
            }
        },
        {
            "cell_type": "code",
            "source": [
                "%reload_ext Kqlmagic"
            ],
            "metadata": {
                "azdata_cell_guid": "662ad3dd-5934-4265-976a-8c0d18cc9676"
            },
            "outputs": [],
            "execution_count": null
        },
        {
            "cell_type": "markdown",
            "source": [
                "## Setup the connection"
            ],
            "metadata": {
                "azdata_cell_guid": "393052fc-020b-4eb6-96b6-feb166972d22"
            }
        },
        {
            "cell_type": "code",
            "source": [
                "%kql azureDataExplorer://code;cluster='help';database='Samples' -try-azcli_login"
            ],
            "metadata": {
                "azdata_cell_guid": "573614bc-73ae-4887-835e-06b63ecb01f1"
            },
            "outputs": [],
            "execution_count": null
        },
        {
            "cell_type": "code",
            "source": [
                "%kql StormEvents | limit 10\n",
                "print(\"The Amount of Storm Events we have data for: \")\n",
                "%kql StormEvents | count"
            ],
            "metadata": {
                "azdata_cell_guid": "616f00ed-d58d-427e-9c34-e65346ff63e7"
            },
            "outputs": [],
            "execution_count": null
        },
        {
            "cell_type": "markdown",
            "source": [
                "## The query that would use the parameters"
            ],
            "metadata": {
                "azdata_cell_guid": "2362df1d-e14f-492a-a8d5-48e161c14a66"
            }
        },
        {
            "cell_type": "code",
            "source": [
                "%%kql \r\n",
                "let _state = stateFilter;\r\n",
                "StormEvents \r\n",
                "| where State == _state\r\n",
                "| summarize EventCount = count() by Event = EventType \r\n",
                "| order by EventCount desc\r\n",
                "| limit 10"
            ],
            "metadata": {
                "azdata_cell_guid": "a24b0ed9-7b4c-417f-87dd-753cbd80f3b2",
                "tags": []
            },
            "outputs": [],
            "execution_count": null
        },
        {
            "cell_type": "code",
            "source": [
                "%%kql\n",
                "let _state = stateFilter;\n",
                "StormEvents \n",
                "| where State == _state\n",
                "| summarize event_count=count() by bin(StartTime, 1d)\n",
                "| render timechart with (title='Daily Storm Events', xtitle='Time',ytitle=\"Storm Events Count\")"
            ],
            "metadata": {
                "azdata_cell_guid": "570abf22-9214-4f39-a386-aad2026f277e"
            },
            "outputs": [],
            "execution_count": null
        }
    ]
}