{
    "metadata": {
        "kernelspec": {
            "name": "python3",
            "display_name": "Python 3",
            "language": "python"
        },
        "language_info": {
            "name": "python",
            "version": "3.6.6",
            "mimetype": "text/x-python",
            "codemirror_mode": {
                "name": "ipython",
                "version": 3
            },
            "pygments_lexer": "ipython3",
            "nbconvert_exporter": "python",
            "file_extension": ".py"
        }
    },
    "nbformat_minor": 2,
    "nbformat": 4,
    "cells": [
        {
            "cell_type": "markdown",
            "source": [
                "# Welcome to Parameterization with Azure Data Studio Notebooks"
            ],
            "metadata": {
                "azdata_cell_guid": "33799f0e-64e0-4796-b4c4-14ff75d33a90"
            }
        },
        {
            "cell_type": "code",
            "source": [
                "x = 2\r\n",
                "y = 5"
            ],
            "metadata": {
                "azdata_cell_guid": "63a9b104-7020-4187-b9c5-e87575a1f2dd",
                "tags": [
                    "parameters"
                ]
            },
            "outputs": [],
            "execution_count": null
        },
        {
            "cell_type": "code",
            "source": [
                "addition = x + y\r\n",
                "multiplication = x * y"
            ],
            "metadata": {
                "azdata_cell_guid": "fd628e10-9527-4476-9077-60634a29e341"
            },
            "outputs": [],
            "execution_count": null
        },
        {
            "cell_type": "code",
            "source": [
                "print(\"Addition: \" + str(addition))\r\n",
                "print(\"Multiplication: \" + str(multiplication))"
            ],
            "metadata": {
                "azdata_cell_guid": "57636640-35a6-4a01-8209-dbcb993d735e"
            },
            "outputs": [],
            "execution_count": null
        }
    ]
}