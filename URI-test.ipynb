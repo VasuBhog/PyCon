{
    "metadata": {
        "kernelspec": {
            "name": "python3",
            "display_name": "Python 3",
            "language": "python"
        },
        "language_info": {
            "name": "python",
            "version": "3.6.8",
            "mimetype": "text/x-python",
            "codemirror_mode": {
                "name": "ipython",
                "version": 3
            },
            "pygments_lexer": "ipython3",
            "nbconvert_exporter": "python",
            "file_extension": ".py"
        }
    },
    "nbformat_minor": 2,
    "nbformat": 4,
    "cells": [
        {
            "cell_type": "markdown",
            "source": [
                "# Notebook URI Parameterization\n",
                "## **<u>Goal</u>**:\n",
                "**Open Notebook URI and pass parameters via URI to a new Notebook** \n",
                "Control Test: [azuredatastudio://microsoft.notebook/open?url=https://raw.githubusercontent.com/VasuBhog/AzureDataStudio-Notebooks/main/Papermill-Parameterization/Input.ipynb](azuredatastudio://microsoft.notebook/open?url=https://raw.githubusercontent.com/VasuBhog/AzureDataStudio-Notebooks/main/Papermill-Parameterization/Input.ipynb) \n",
                "Encoded URI with No Parameter cell Test: [azuredatastudio://microsoft.notebook/open?url=https%3A%2F%2Fraw.githubusercontent.com%2FVasuBhog%2FAzureDataStudio-Notebooks%2Fmain%2FPapermill-Parameterization%2FInput.ipynb%3Fx%3D1%26y%3D2](azuredatastudio://microsoft.notebook/open?url=https%3A%2F%2Fraw.githubusercontent.com%2FVasuBhog%2FAzureDataStudio-Notebooks%2Fmain%2FPapermill-Parameterization%2FInput.ipynb%3Fx%3D1%26y%3D2) \n",
                "URI with Parameter cell Test: [azuredatastudio://microsoft.notebook/open?url=https://raw.githubusercontent.com/VasuBhog/AzureDataStudio-Notebooks/main/Papermill-Parameterization/Input.ipynb?x=1&y=2](azuredatastudio://microsoft.notebook/open?url=https://raw.githubusercontent.com/VasuBhog/AzureDataStudio-Notebooks/main/Papermill-Parameterization/Input.ipynb?x=1&y=2) \n",
                "URI with Injected Parameter cell Test: [azuredatastudio://microsoft.notebook/open?url=https://raw.githubusercontent.com/VasuBhog/AzureDataStudio-Notebooks/main/Papermill-Parameterization/Output.ipynb?x=1&y=10&z=4](azuredatastudio://microsoft.notebook/open?url=https://raw.githubusercontent.com/VasuBhog/AzureDataStudio-Notebooks/main/Papermill-Parameterization/Output.ipynb?x=1&y=10&z=4) \n",
                "(future case - is not currently supported) File Test : [azuredatastudio://microsoft.notebook/open?url=file:///Users/vasubhog/GitProjects/AzureDataStudio-Notebooks/Papermill-Parameterization/Input.ipynb?x=1&y=2](azuredatastudio://microsoft.notebook/open?url=file:///Users/vasubhog/GitProjects/AzureDataStudio-Notebooks/Papermill-Parameterization/Input.ipynb?x=1&y=2)\n",
                ""
            ],
            "metadata": {
                "azdata_cell_guid": "7535ee9e-867d-4050-bf5e-945b636bd32e"
            }
        }
    ]
}